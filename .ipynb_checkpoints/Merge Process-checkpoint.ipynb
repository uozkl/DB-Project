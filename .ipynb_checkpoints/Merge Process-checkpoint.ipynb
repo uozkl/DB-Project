{
 "cells": [
  {
   "cell_type": "code",
   "execution_count": null,
   "metadata": {},
   "outputs": [],
   "source": [
    "import pandas as pd\n",
    "\n",
    "denver_fact = pd.read_csv('./Dimensions/fact_denver.csv')\n",
    "vancouver_fact = pd.read_csv('./Dimensions/fact_vancouver.csv')\n",
    "denver_crm_dim = pd.read_csv('./Dimensions/crm_denver.csv')\n",
    "vancouver_crm_dim = pd.read_csv('./Dimensions/crm_vancouver.csv')\n",
    "denver_loc_dim = pd.read_csv('./Dimensions/loc_denver.csv')\n",
    "vancouver_loc_dim = pd.read_csv('./Dimensions/loc_vancouver.csv')"
   ]
  },
  {
   "cell_type": "code",
   "execution_count": null,
   "metadata": {},
   "outputs": [],
   "source": [
    "fact_df = event_df = pd.concat([denver_fact, vancouver_fact], ignore_index=True)\n",
    "crm_df = event_df = pd.concat([denver_crm_dim, vancouver_crm_dim], ignore_index=True)\n",
    "loc_df = event_df = pd.concat([denver_loc_dim, vancouver_loc_dim], ignore_index=True)"
   ]
  },
  {
   "cell_type": "code",
   "execution_count": null,
   "metadata": {},
   "outputs": [],
   "source": [
    "fact_df.to_csv(r'.\\Dimensions\\dimension_fact.csv',index=False)\n",
    "crm_df.to_csv(r'.\\Dimensions\\dimension_crime.csv',index=False)\n",
    "loc_df.to_csv(r'.\\Dimensions\\dimension_location.csv',index=False)"
   ]
  }
 ],
 "metadata": {
  "kernelspec": {
   "display_name": "Python 3",
   "language": "python",
   "name": "python3"
  },
  "language_info": {
   "codemirror_mode": {
    "name": "ipython",
    "version": 3
   },
   "file_extension": ".py",
   "mimetype": "text/x-python",
   "name": "python",
   "nbconvert_exporter": "python",
   "pygments_lexer": "ipython3",
   "version": "3.7.2"
  }
 },
 "nbformat": 4,
 "nbformat_minor": 2
}
