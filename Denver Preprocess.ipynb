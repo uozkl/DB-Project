{
 "cells": [
  {
   "cell_type": "code",
   "execution_count": null,
   "metadata": {},
   "outputs": [],
   "source": [
    "import pandas as pd\n",
    "import numpy as np\n",
    "from datetime import datetime\n",
    "denver_path = \"./denvercrime.csv\"\n",
    "crime_code_path = \"./offense_codes.csv\"\n",
    "holidayDataDenver = pd.read_csv('Denver_Holiday.csv')\n",
    "holidayDataVancouver = pd.read_csv('Vancouver_Holiday.csv')\n",
    "eventDataDenver = pd.read_csv('Denver_events.csv')\n",
    "df = pd.read_csv(denver_path)[:10]\n",
    "crime_code_df = pd.read_csv(crime_code_path)"
   ]
  },
  {
   "cell_type": "code",
   "execution_count": null,
   "metadata": {},
   "outputs": [],
   "source": [
    "crime_code_index = []\n",
    "crime_details=[]\n",
    "for index, row in crime_code_df.iterrows():\n",
    "    crime_code_index.append((row[\"OFFENSE_CODE\"],row[\"OFFENSE_CODE_EXTENSION\"]))\n",
    "    crime_details.append(row[\"OFFENSE_TYPE_NAME\"])"
   ]
  },
  {
   "cell_type": "code",
   "execution_count": null,
   "metadata": {},
   "outputs": [],
   "source": [
    "def time_cov(raw_in):\n",
    "    if type(raw_in)==float:\n",
    "        return raw_in,raw_in,raw_in,raw_in,raw_in,raw_in\n",
    "    datetime_raw = datetime.strptime(raw_in, '%m/%d/%Y %I:%M:%S %p')\n",
    "    date = int(datetime_raw.strftime(\"%Y%m%d\"))\n",
    "    hour = datetime_raw.hour\n",
    "    minute = datetime_raw.minute\n",
    "    second = datetime_raw.second\n",
    "    dow = [\"Monday\",\"Tuesday\",\"Wednesday\",\"Thursday\",\"Friday\",\"Saturday\",\"Sunday\"][datetime_raw.weekday()]\n",
    "    return date,hour,minute,second,dow,datetime_raw\n"
   ]
  },
  {
   "cell_type": "code",
   "execution_count": null,
   "metadata": {},
   "outputs": [],
   "source": [
    "fact_df = pd.DataFrame(columns=['location_Key','crime_key', 'date_key','event_key', 'is_traffic','is_fatal','is_nighttime'])\n",
    "location_df = pd.DataFrame(columns=['location_Key','city','location_name', 'neighborhood','latitude','longitude', 'crime_rate'])\n",
    "crime_df= pd.DataFrame(columns=['crime_key','crime_category_name', 'crime_type_name','crime_details',\n",
    "                                 'start_hour', 'start_minute',\"start_second\",\n",
    "                                 'end_hour', 'end_minute',\"end_second\",\n",
    "                                 'report_hour', 'report_minute',\"report_second\"])\n",
    "#no need to create twice in Vancouver\n",
    "date_df = pd.DataFrame(columns=['Date_Key', 'Year','Month','Day', 'Day_of_Week','Is_Weekend','Is_Holiday_Vancouver','Holiday_Name_Vancouver','Is_Holiday_Denver','Holiday_Name_Denver'])\n",
    "event_df = pd.DataFrame(columns=['event_key','event_name','event_type','event_location','event_neighbourhood','event_city','event_start_date','event_end_date','event_location_size'])\n"
   ]
  },
  {
   "cell_type": "code",
   "execution_count": null,
   "metadata": {},
   "outputs": [],
   "source": [
    "#Full Date Dimesion\n",
    "start='20150101'\n",
    "end='20191231'\n",
    "s = pd.Series(pd.date_range(start, end))\n",
    "date_df[\"Date_Key\"] = s.dt.strftime('%Y%m%d')\n",
    "date_df[\"Day_of_Week\"] = s.dt.weekday_name\n",
    "date_df['Is_Weekend'] = ((pd.to_numeric( s.dt.weekday)) // 5 == 1).astype('int64')\n",
    "date_df[\"Year\"] = s.dt.year\n",
    "date_df[\"Month\"] = s.dt.month\n",
    "date_df[\"Day\"] = s.dt.day\n",
    "date_df[\"Is_Holiday_Denver\"] = 0\n",
    "date_df[\"Is_Holiday_Vancouver\"] = 0\n",
    "#Put Denver Holiday csv into Date Dimension\n",
    "for idx_hol, row_hol in holidayDataDenver.iterrows():\n",
    "    for idx_date, row_date in date_df.iterrows():\n",
    "        if row_hol['YEAR']==row_date['Year'] and row_hol['MONTH']==row_date['Month'] and row_hol['DAY']== row_date['Day']:\n",
    "            date_df.at[idx_date, 'Is_Holiday_Denver'] = 1\n",
    "            date_df.at[idx_date, 'Holiday_Name_Denver'] = row_hol['NAME']\n",
    "#Put Vancouver Holiday csv into Date Dimension\n",
    "for idx_hol, row_hol in holidayDataVancouver.iterrows():\n",
    "    for idx_date, row_date in date_df.iterrows():\n",
    "        if row_hol['YEAR']==row_date['Year'] and row_hol['MONTH']==row_date['Month'] and row_hol['DAY']== row_date['Day']:\n",
    "            date_df.at[idx_date, 'Is_Holiday_Vancouver'] = 1\n",
    "            date_df.at[idx_date, 'Holiday_Name_Vancouver'] = row_hol['NAME']\n",
    "date_df.head()"
   ]
  },
  {
   "cell_type": "code",
   "execution_count": null,
   "metadata": {},
   "outputs": [],
   "source": [
    "#Event Dimension only has Denver Event\n",
    "for idx_event, row_event in eventDataDenver.iterrows():\n",
    "    event_row=[idx_event+3000000]\n",
    "    event_row += [row_event['NAME'],row_event['TYPE'],row_event['LOCATION'],row_event['NEIGHBOURHOOD'],'Denver',row_event['DATE_START'],row_event['DATE_END'],row_event['LOCATION-SIZE']]\n",
    "    event_df.loc[len(event_df)] = event_row\n",
    "event_df.head()"
   ]
  },
  {
   "cell_type": "code",
   "execution_count": null,
   "metadata": {},
   "outputs": [],
   "source": [
    "for index, row in df.iterrows():\n",
    "    s_d,s_h,s_m,s_s,s_dow,s_dt = time_cov(row[\"FIRST_OCCURRENCE_DATE\"])\n",
    "    if not(2015<=s_dt.year<=2019):\n",
    "        continue\n",
    "    location_id = index + 1000000\n",
    "    city = \"Denver\"\n",
    "    location = row[\"INCIDENT_ADDRESS\"]\n",
    "    neighborhood = row[\"NEIGHBORHOOD_ID\"]\n",
    "    lat = row[\"GEO_LAT\"]\n",
    "    lon = row[\"GEO_LON\"]\n",
    "    crime_rate = 0\n",
    "    location_df.loc[index] = [location_id,city,location,neighborhood,lat,lon,crime_rate]\n",
    "    \n",
    "    \n",
    "    crime_id = index + 2000000\n",
    "    crime_category_name = row[\"OFFENSE_CATEGORY_ID\"]\n",
    "    crime_type_name = row[\"OFFENSE_TYPE_ID\"]\n",
    "    crime_detail = crime_details[crime_code_index.index((row[\"OFFENSE_CODE\"],row[\"OFFENSE_CODE_EXTENSION\"]))]\n",
    "    \n",
    "    e_d,e_h,e_m,e_s,e_dow,e_dt = time_cov(row[\"LAST_OCCURRENCE_DATE\"])\n",
    "    r_d,r_h,r_m,r_s,r_dow,r_dt = time_cov(row[\"REPORTED_DATE\"])\n",
    "    crime_df.loc[index] = [crime_id,crime_category_name,crime_type_name,crime_detail,s_h,s_m,s_s,e_h,e_m,e_s,r_h,r_m,r_s]\n",
    "    \n",
    "    \n",
    "    date_id = int(s_dt.strftime(\"%Y%m%d\"))\n",
    "    \n",
    "    \n",
    "    #Event\n",
    "    event_id = np.nan\n",
    "    for idx_event, row_event in event_df.iterrows():\n",
    "        #the crime is in the event period\n",
    "        if date_id>=row_event['event_start_date'] and date_id<=row_event['event_end_date']:\n",
    "            #the event is city size and there is no event assign to the crime\n",
    "            if row_event['event_location_size'] == 'city':\n",
    "                if np.isnan(event_id):\n",
    "                    event_id = row_event['event_key']\n",
    "            #the event is not city size\n",
    "            else:\n",
    "                #the neighborhood are same\n",
    "                if neighborhood == row_event['event_neighbourhood']:\n",
    "                    event_id = row_event['event_key']\n",
    "                    \n",
    "    \n",
    "    \n",
    "    is_night = 0 if 7 <= s_h <= 18 else 1\n",
    "    \n",
    "    fatal_keywords=['FATAL','DEAD','DEATH','KILL','HOMICIDE','MURDER']\n",
    "    is_fatal = 0\n",
    "    for keyword in fatal_keywords:\n",
    "        for name in [crime_category_name,crime_type_name,crime_detail]:\n",
    "            if keyword in name.upper():\n",
    "                is_fatal = 1\n",
    "\n",
    "    \n",
    "    fact_df.loc[index] = [location_id,crime_id,date_id,event_id,row[\"IS_TRAFFIC\"],is_fatal,is_night]"
   ]
  },
  {
   "cell_type": "code",
   "execution_count": null,
   "metadata": {},
   "outputs": [],
   "source": [
    "location_df.head()"
   ]
  },
  {
   "cell_type": "code",
   "execution_count": null,
   "metadata": {},
   "outputs": [],
   "source": [
    "crime_df.head()"
   ]
  },
  {
   "cell_type": "code",
   "execution_count": null,
   "metadata": {},
   "outputs": [],
   "source": [
    "# fact_df convert float to int\n",
    "for col in fact_df.columns:\n",
    "    if col !=\"event_key\":\n",
    "        fact_df[[col]]=fact_df[[col]].astype(int)"
   ]
  },
  {
   "cell_type": "code",
   "execution_count": null,
   "metadata": {},
   "outputs": [],
   "source": [
    "fact_df.head()"
   ]
  },
  {
   "cell_type": "code",
   "execution_count": null,
   "metadata": {},
   "outputs": [],
   "source": [
    "df.head()"
   ]
  }
 ],
 "metadata": {
  "kernelspec": {
   "display_name": "Python 3",
   "language": "python",
   "name": "python3"
  },
  "language_info": {
   "codemirror_mode": {
    "name": "ipython",
    "version": 3
   },
   "file_extension": ".py",
   "mimetype": "text/x-python",
   "name": "python",
   "nbconvert_exporter": "python",
   "pygments_lexer": "ipython3",
   "version": "3.7.2"
  }
 },
 "nbformat": 4,
 "nbformat_minor": 2
}
