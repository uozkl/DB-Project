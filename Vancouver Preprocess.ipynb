{
 "cells": [
  {
   "cell_type": "code",
   "execution_count": null,
   "metadata": {},
   "outputs": [],
   "source": [
    "import pandas as pd\n",
    "import numpy as np\n",
    "from datetime import datetime\n",
    "import utm\n",
    "\n",
    "vancouver_path = \"./vancouvercrime.csv\"\n",
    "crime_mapping_path = \"./crime_type_mapping.csv\"\n",
    "eventDataDenver = pd.read_csv('Vancouver_events.csv')\n",
    "df = pd.read_csv(vancouver_path)[:100]\n",
    "crime_code_df = pd.read_csv(crime_mapping_path)"
   ]
  },
  {
   "cell_type": "code",
   "execution_count": null,
   "metadata": {},
   "outputs": [],
   "source": [
    "fact_df = pd.DataFrame(columns=['location_Key','crime_key', 'date_key','event_key', 'is_traffic','is_fatal','is_nighttime'])\n",
    "location_df = pd.DataFrame(columns=['location_Key','city','location_name', 'neighborhood', 'latitude','longitude','crime_rate'])\n",
    "crime_df= pd.DataFrame(columns=['crime_key','crime_category_name', 'crime_type_name','crime_details',\n",
    "                                 'start_hour', 'start_minute',\"start_second\",\n",
    "                                 'end_hour', 'end_minute',\"end_second\",\n",
    "                                 'report_hour', 'report_minute',\"report_second\"])\n",
    "event_df = pd.DataFrame(columns=['event_key','event_name','event_type','event_location','event_neighbourhood','event_city','event_start_date','event_end_date','event_location_size'])"
   ]
  },
  {
   "cell_type": "code",
   "execution_count": null,
   "metadata": {},
   "outputs": [],
   "source": [
    "#Event Dimension\n",
    "for idx_event, row_event in eventDataVancouver.iterrows():\n",
    "    event_row=[idx_event+30000000]\n",
    "    event_row += [row_event['NAME'],row_event['TYPE'],row_event['LOCATION'],row_event['NEIGHBOURHOOD'],'Denver',row_event['DATE_START'],row_event['DATE_END'],row_event['LOCATION-SIZE']]\n",
    "    event_df.loc[len(event_df)] = event_row\n",
    "event_df.head()"
   ]
  },
  {
   "cell_type": "code",
   "execution_count": null,
   "metadata": {},
   "outputs": [],
   "source": [
    "crime_list = crime_code_df[\"Vancouver\"].tolist()"
   ]
  },
  {
   "cell_type": "code",
   "execution_count": null,
   "metadata": {},
   "outputs": [],
   "source": [
    "for i, row in df.iterrows():\n",
    "    if not(2015<=row['YEAR']<=2019):\n",
    "        continue\n",
    "        \n",
    "    index = len(fact_df)\n",
    "    \n",
    "    # Van id starts from 10^7, Den id starts from 10^6\n",
    "    location_id = index + 10000000\n",
    "    city = \"Vancouver\"\n",
    "    location = row[\"HUNDRED_BLOCK\"]\n",
    "    neighborhood = row[\"NEIGHBOURHOOD\"]\n",
    "    lat,lon = utm.to_latlon(row['X'],row['Y'],10,'U')\n",
    "    crime_rate = 0\n",
    "    location_df.loc[index] = [location_id,city,location,neighborhood,lat,lon,crime_rate]\n",
    "    \n",
    "    \n",
    "    crime_id = index + 20000000\n",
    "    \n",
    "    crime_type_map = crime_code_df.iloc[crime_list.index(row['TYPE'])]\n",
    "    crime_category_name = crime_type_map[\"corr Denver category\"]\n",
    "    crime_type_name = crime_type_map[\"corr Denver type\"]\n",
    "    crime_detail = crime_type_map[\"corr Denver detail\"]\n",
    "    \n",
    "    na = np.nan\n",
    "    year = row['YEAR']\n",
    "    month = row['MONTH']\n",
    "    day = row['DAY']\n",
    "    hour = row['HOUR']\n",
    "    minute = row['MINUTE']\n",
    "    \n",
    "    crime_df.loc[index] = [crime_id,crime_category_name,crime_type_name,crime_detail,hour,minute,0,na,na,na,na,na,na]\n",
    "    \n",
    "    str_month = str(month) if month>9 else '0'+str(month)\n",
    "    str_day = str(day) if day>9 else '0'+str(day)\n",
    "    date_id = int(str(year)+str_month+str_day)\n",
    "    \n",
    "    \n",
    "    #Event\n",
    "    event_id = np.nan\n",
    "    for idx_event, row_event in event_df.iterrows():\n",
    "        #the crime is in the event period\n",
    "        if date_id>=row_event['event_start_date'] and date_id<=row_event['event_end_date']:\n",
    "            #the event is city size and there is no event assign to the crime\n",
    "            if row_event['event_location_size'] == 'city':\n",
    "                if np.isnan(event_id):\n",
    "                    event_id = row_event['event_key']\n",
    "            #the event is not city size\n",
    "            else:\n",
    "                #the neighborhood are same\n",
    "                if neighborhood == row_event['event_neighbourhood']:\n",
    "                    event_id = row_event['event_key']\n",
    "    \n",
    "    is_night = 0 if 7 <= hour <= 18 else 1\n",
    "    \n",
    "    fatal_keywords=['FATAL','DEAD','DEATH','KILL','HOMICIDE','MURDER']\n",
    "    is_fatal = 0\n",
    "    for keyword in fatal_keywords:\n",
    "        for name in [crime_category_name,crime_type_name,crime_detail]:\n",
    "            if keyword in name.upper():\n",
    "                is_fatal = 1\n",
    "\n",
    "    \n",
    "    fact_df.loc[index] = [location_id,crime_id,date_id,event_id,crime_type_map[\"is_traffic\"],crime_type_map['is_fatal'],is_night]"
   ]
  },
  {
   "cell_type": "code",
   "execution_count": null,
   "metadata": {},
   "outputs": [],
   "source": [
    "# fact_df convert float to int\n",
    "for col in fact_df.columns:\n",
    "    if col !=\"event_key\":\n",
    "        fact_df[[col]]=fact_df[[col]].astype(int)"
   ]
  },
  {
   "cell_type": "code",
   "execution_count": null,
   "metadata": {},
   "outputs": [],
   "source": [
    "crime_df.head()"
   ]
  },
  {
   "cell_type": "code",
   "execution_count": null,
   "metadata": {},
   "outputs": [],
   "source": [
    "location_df.head()"
   ]
  },
  {
   "cell_type": "code",
   "execution_count": null,
   "metadata": {},
   "outputs": [],
   "source": [
    "fact_df.head()"
   ]
  }
 ],
 "metadata": {
  "kernelspec": {
   "display_name": "Python 3",
   "language": "python",
   "name": "python3"
  },
  "language_info": {
   "codemirror_mode": {
    "name": "ipython",
    "version": 3
   },
   "file_extension": ".py",
   "mimetype": "text/x-python",
   "name": "python",
   "nbconvert_exporter": "python",
   "pygments_lexer": "ipython3",
   "version": "3.7.2"
  }
 },
 "nbformat": 4,
 "nbformat_minor": 2
}
