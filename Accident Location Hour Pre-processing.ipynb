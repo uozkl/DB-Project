{
 "cells": [
  {
   "cell_type": "code",
   "execution_count": 2,
   "metadata": {},
   "outputs": [],
   "source": [
    "import pandas as pd\n",
    "import numpy as np\n",
    "\n",
    "from datetime import datetime, timedelta"
   ]
  },
  {
   "cell_type": "code",
   "execution_count": 12,
   "metadata": {},
   "outputs": [],
   "source": [
    "coll_2017_df = pd.read_csv('D:/4142proj/Notebooks/Data/2017_Tabular_Transportation_Collision_Data.csv')[:50]"
   ]
  },
  {
   "cell_type": "code",
   "execution_count": 13,
   "metadata": {},
   "outputs": [
    {
     "data": {
      "text/plain": [
       "'1899-12-31T19:48:00.000Z'"
      ]
     },
     "execution_count": 13,
     "metadata": {},
     "output_type": "execute_result"
    }
   ],
   "source": [
    "coll_2017_df.iloc[0]['Time']"
   ]
  },
  {
   "cell_type": "code",
   "execution_count": 14,
   "metadata": {},
   "outputs": [],
   "source": [
    "#Convert string to timestamp\n",
    "time = datetime.strptime(coll_2017_df.iloc[0]['Time'], '%Y-%m-%dT%H:%M:%S.000Z')"
   ]
  },
  {
   "cell_type": "code",
   "execution_count": 17,
   "metadata": {},
   "outputs": [
    {
     "name": "stdout",
     "output_type": "stream",
     "text": [
      "[104, '8:20:0', 'Rain', 'Wet', 'Yield sign', 'Dark', 'Sideswipe']\n"
     ]
    }
   ],
   "source": [
    "collision_df = pd.DataFrame(columns=['Accident_Key','Accident_Time', 'Environment', 'Road_Surface', 'Traffic_Control',\n",
    "                                     'Visibility', 'Impact_Type'])\n",
    "\n",
    "location_df = pd.DataFrame(columns=['Location_Key','Street_Name', 'Intersection_1', 'Intersection_2', 'Longitude', 'Latitude'])\n",
    "\n",
    "\n",
    "hour_df = pd.DataFrame(columns=['Hour_Key','Hour_Start', 'Hour_End', 'Date', 'Month', 'Year'])\n",
    "\n",
    "for idx, row in coll_2017_df.iterrows():\n",
    "    if idx!=4:\n",
    "        continue\n",
    "    #Accident\n",
    "    accident_row = [idx + 100]\n",
    "    \n",
    "    time = datetime.strptime(row['Time'], '%Y-%m-%dT%H:%M:%S.000Z')\n",
    "    accident_row.append(str(time.hour) + \":\" + str(time.minute) + \":\" + str(time.second))\n",
    "    \n",
    "    accident_row.append(row['Environment'][4:].strip())\n",
    "    \n",
    "    accident_row.append(row['Road_Surface'][4:].strip())\n",
    "    \n",
    "    accident_row.append(row['Traffic_Control'][4:].strip())\n",
    "    \n",
    "    accident_row.append(row['Light'][4:].strip())\n",
    "    \n",
    "    accident_row.append(row['Impact_type'][4:].strip())\n",
    "    \n",
    "    collision_df.loc[len(collision_df)] = accident_row\n",
    "    print(accident_row)\n"
   ]
  },
  {
   "cell_type": "code",
   "execution_count": null,
   "metadata": {},
   "outputs": [],
   "source": [
    "for idx, row in coll_2017_df.iterrows():    \n",
    "    #Location\n",
    "    \n",
    "    location_row = [idx + 200]\n",
    "    \n",
    "    if '@' in row['Location']: \n",
    "        roads = row['Location'].split(\"@\")\n",
    "        location_row += [roads[0].strip(), roads[1].strip(), \"NA\"] #Street, Intersection 1, Intersection 2\n",
    "        \n",
    "    else: #when there is a btwn in the location\n",
    "        roads = row['Location'].split(\"btwn\")\n",
    "        \n",
    "        if \"&\" in roads[1]:\n",
    "            intersections = roads[1].split(\"&\")\n",
    "            location_row += [roads[0].strip(), intersections[0].strip(), \n",
    "                             intersections[1].strip()] #Street, Intersection 1, Intersection 2\n",
    "        else:\n",
    "            location_row += [roads[0].strip(), roads[1].strip(), \"NA\"] #Street, Intersection 1, Intersection 2\n",
    "        \n",
    "    location_row += [row['Longitude'], row['Latitude']]\n",
    "    \n",
    "    location_df.loc[len(location_df)] = location_row"
   ]
  },
  {
   "cell_type": "code",
   "execution_count": null,
   "metadata": {},
   "outputs": [],
   "source": [
    "for idx, row in coll_2017_df.iterrows():\n",
    "    #Hour\n",
    "    \n",
    "    hour_row = [idx + 300]\n",
    "    \n",
    "    date = datetime.strptime(row['Date'], '%Y-%m-%dT%H:%M:%S.000Z')\n",
    "    next_time = time + timedelta(hours=1)\n",
    "\n",
    "    hour_row += [time.hour, next_time.hour]\n",
    "    hour_row.append(str(date.day) + \"/\" + str(date.month) + \"/\" + str(date.year))\n",
    "    hour_row += [date.month, date.year]\n",
    "    \n",
    "    hour_df.loc[len(hour_df)] = hour_row"
   ]
  },
  {
   "cell_type": "code",
   "execution_count": 16,
   "metadata": {},
   "outputs": [
    {
     "data": {
      "text/html": [
       "<div>\n",
       "<style scoped>\n",
       "    .dataframe tbody tr th:only-of-type {\n",
       "        vertical-align: middle;\n",
       "    }\n",
       "\n",
       "    .dataframe tbody tr th {\n",
       "        vertical-align: top;\n",
       "    }\n",
       "\n",
       "    .dataframe thead th {\n",
       "        text-align: right;\n",
       "    }\n",
       "</style>\n",
       "<table border=\"1\" class=\"dataframe\">\n",
       "  <thead>\n",
       "    <tr style=\"text-align: right;\">\n",
       "      <th></th>\n",
       "      <th>Accident_Key</th>\n",
       "      <th>Accident_Time</th>\n",
       "      <th>Environment</th>\n",
       "      <th>Road_Surface</th>\n",
       "      <th>Traffic_Control</th>\n",
       "      <th>Visibility</th>\n",
       "      <th>Impact_Type</th>\n",
       "    </tr>\n",
       "  </thead>\n",
       "  <tbody>\n",
       "    <tr>\n",
       "      <th>0</th>\n",
       "      <td>100</td>\n",
       "      <td>19:48:0</td>\n",
       "      <td>Clear</td>\n",
       "      <td>Dry</td>\n",
       "      <td>Traffic signal</td>\n",
       "      <td>Daylight</td>\n",
       "      <td>Sideswipe</td>\n",
       "    </tr>\n",
       "    <tr>\n",
       "      <th>1</th>\n",
       "      <td>101</td>\n",
       "      <td>12:51:0</td>\n",
       "      <td>Snow</td>\n",
       "      <td>Slush</td>\n",
       "      <td>Traffic signal</td>\n",
       "      <td>Daylight</td>\n",
       "      <td>Rear end</td>\n",
       "    </tr>\n",
       "    <tr>\n",
       "      <th>2</th>\n",
       "      <td>102</td>\n",
       "      <td>18:31:0</td>\n",
       "      <td>Rain</td>\n",
       "      <td>Wet</td>\n",
       "      <td>Traffic signal</td>\n",
       "      <td>Daylight</td>\n",
       "      <td>Sideswipe</td>\n",
       "    </tr>\n",
       "    <tr>\n",
       "      <th>3</th>\n",
       "      <td>103</td>\n",
       "      <td>13:38:0</td>\n",
       "      <td>Clear</td>\n",
       "      <td>Ice</td>\n",
       "      <td>Traffic signal</td>\n",
       "      <td>Daylight</td>\n",
       "      <td>Rear end</td>\n",
       "    </tr>\n",
       "    <tr>\n",
       "      <th>4</th>\n",
       "      <td>104</td>\n",
       "      <td>8:20:0</td>\n",
       "      <td>Rain</td>\n",
       "      <td>Wet</td>\n",
       "      <td>Yield sign</td>\n",
       "      <td>Dark</td>\n",
       "      <td>Sideswipe</td>\n",
       "    </tr>\n",
       "  </tbody>\n",
       "</table>\n",
       "</div>"
      ],
      "text/plain": [
       "  Accident_Key Accident_Time Environment Road_Surface Traffic_Control  \\\n",
       "0          100       19:48:0       Clear          Dry  Traffic signal   \n",
       "1          101       12:51:0        Snow        Slush  Traffic signal   \n",
       "2          102       18:31:0        Rain          Wet  Traffic signal   \n",
       "3          103       13:38:0       Clear          Ice  Traffic signal   \n",
       "4          104        8:20:0        Rain          Wet      Yield sign   \n",
       "\n",
       "  Visibility Impact_Type  \n",
       "0   Daylight   Sideswipe  \n",
       "1   Daylight    Rear end  \n",
       "2   Daylight   Sideswipe  \n",
       "3   Daylight    Rear end  \n",
       "4       Dark   Sideswipe  "
      ]
     },
     "execution_count": 16,
     "metadata": {},
     "output_type": "execute_result"
    }
   ],
   "source": [
    "collision_df.head()"
   ]
  },
  {
   "cell_type": "code",
   "execution_count": 19,
   "metadata": {},
   "outputs": [
    {
     "data": {
      "text/html": [
       "<div>\n",
       "<style scoped>\n",
       "    .dataframe tbody tr th:only-of-type {\n",
       "        vertical-align: middle;\n",
       "    }\n",
       "\n",
       "    .dataframe tbody tr th {\n",
       "        vertical-align: top;\n",
       "    }\n",
       "\n",
       "    .dataframe thead th {\n",
       "        text-align: right;\n",
       "    }\n",
       "</style>\n",
       "<table border=\"1\" class=\"dataframe\">\n",
       "  <thead>\n",
       "    <tr style=\"text-align: right;\">\n",
       "      <th></th>\n",
       "      <th>Location_Key</th>\n",
       "      <th>Street_Name</th>\n",
       "      <th>Intersection_1</th>\n",
       "      <th>Intersection_2</th>\n",
       "      <th>Longitude</th>\n",
       "      <th>Latitude</th>\n",
       "    </tr>\n",
       "  </thead>\n",
       "  <tbody>\n",
       "    <tr>\n",
       "      <th>0</th>\n",
       "      <td>200</td>\n",
       "      <td>AIRPORT PKWY</td>\n",
       "      <td>HUNT CLUB RD</td>\n",
       "      <td>NA</td>\n",
       "      <td>-75.654907</td>\n",
       "      <td>45.350155</td>\n",
       "    </tr>\n",
       "    <tr>\n",
       "      <th>1</th>\n",
       "      <td>201</td>\n",
       "      <td>AIRPORT PKWY</td>\n",
       "      <td>HUNT CLUB RD</td>\n",
       "      <td>NA</td>\n",
       "      <td>-75.654900</td>\n",
       "      <td>45.350147</td>\n",
       "    </tr>\n",
       "    <tr>\n",
       "      <th>2</th>\n",
       "      <td>202</td>\n",
       "      <td>AIRPORT PKWY</td>\n",
       "      <td>HUNT CLUB RD</td>\n",
       "      <td>NA</td>\n",
       "      <td>-75.654907</td>\n",
       "      <td>45.350140</td>\n",
       "    </tr>\n",
       "    <tr>\n",
       "      <th>3</th>\n",
       "      <td>203</td>\n",
       "      <td>AIRPORT PKWY</td>\n",
       "      <td>HUNT CLUB RD</td>\n",
       "      <td>NA</td>\n",
       "      <td>-75.654907</td>\n",
       "      <td>45.350143</td>\n",
       "    </tr>\n",
       "    <tr>\n",
       "      <th>4</th>\n",
       "      <td>204</td>\n",
       "      <td>AIRPORT PKWY</td>\n",
       "      <td>UPLANDS DR RAMP 62</td>\n",
       "      <td>NA</td>\n",
       "      <td>-75.651611</td>\n",
       "      <td>45.331390</td>\n",
       "    </tr>\n",
       "  </tbody>\n",
       "</table>\n",
       "</div>"
      ],
      "text/plain": [
       "  Location_Key   Street_Name      Intersection_1 Intersection_2  Longitude  \\\n",
       "0          200  AIRPORT PKWY        HUNT CLUB RD             NA -75.654907   \n",
       "1          201  AIRPORT PKWY        HUNT CLUB RD             NA -75.654900   \n",
       "2          202  AIRPORT PKWY        HUNT CLUB RD             NA -75.654907   \n",
       "3          203  AIRPORT PKWY        HUNT CLUB RD             NA -75.654907   \n",
       "4          204  AIRPORT PKWY  UPLANDS DR RAMP 62             NA -75.651611   \n",
       "\n",
       "    Latitude  \n",
       "0  45.350155  \n",
       "1  45.350147  \n",
       "2  45.350140  \n",
       "3  45.350143  \n",
       "4  45.331390  "
      ]
     },
     "execution_count": 19,
     "metadata": {},
     "output_type": "execute_result"
    }
   ],
   "source": [
    "location_df.head()"
   ]
  },
  {
   "cell_type": "code",
   "execution_count": 36,
   "metadata": {},
   "outputs": [
    {
     "data": {
      "text/html": [
       "<div>\n",
       "<style scoped>\n",
       "    .dataframe tbody tr th:only-of-type {\n",
       "        vertical-align: middle;\n",
       "    }\n",
       "\n",
       "    .dataframe tbody tr th {\n",
       "        vertical-align: top;\n",
       "    }\n",
       "\n",
       "    .dataframe thead th {\n",
       "        text-align: right;\n",
       "    }\n",
       "</style>\n",
       "<table border=\"1\" class=\"dataframe\">\n",
       "  <thead>\n",
       "    <tr style=\"text-align: right;\">\n",
       "      <th></th>\n",
       "      <th>Hour_Key</th>\n",
       "      <th>Hour_Start</th>\n",
       "      <th>Hour_End</th>\n",
       "      <th>Date</th>\n",
       "      <th>Month</th>\n",
       "      <th>Year</th>\n",
       "    </tr>\n",
       "  </thead>\n",
       "  <tbody>\n",
       "    <tr>\n",
       "      <th>0</th>\n",
       "      <td>300</td>\n",
       "      <td>19</td>\n",
       "      <td>20</td>\n",
       "      <td>13/1/2017</td>\n",
       "      <td>1</td>\n",
       "      <td>2017</td>\n",
       "    </tr>\n",
       "    <tr>\n",
       "      <th>1</th>\n",
       "      <td>301</td>\n",
       "      <td>12</td>\n",
       "      <td>13</td>\n",
       "      <td>15/3/2017</td>\n",
       "      <td>3</td>\n",
       "      <td>2017</td>\n",
       "    </tr>\n",
       "    <tr>\n",
       "      <th>2</th>\n",
       "      <td>302</td>\n",
       "      <td>18</td>\n",
       "      <td>19</td>\n",
       "      <td>19/4/2017</td>\n",
       "      <td>4</td>\n",
       "      <td>2017</td>\n",
       "    </tr>\n",
       "    <tr>\n",
       "      <th>3</th>\n",
       "      <td>303</td>\n",
       "      <td>13</td>\n",
       "      <td>14</td>\n",
       "      <td>21/12/2017</td>\n",
       "      <td>12</td>\n",
       "      <td>2017</td>\n",
       "    </tr>\n",
       "    <tr>\n",
       "      <th>4</th>\n",
       "      <td>304</td>\n",
       "      <td>8</td>\n",
       "      <td>9</td>\n",
       "      <td>30/10/2017</td>\n",
       "      <td>10</td>\n",
       "      <td>2017</td>\n",
       "    </tr>\n",
       "  </tbody>\n",
       "</table>\n",
       "</div>"
      ],
      "text/plain": [
       "  Hour_Key Hour_Start Hour_End        Date Month  Year\n",
       "0      300         19       20   13/1/2017     1  2017\n",
       "1      301         12       13   15/3/2017     3  2017\n",
       "2      302         18       19   19/4/2017     4  2017\n",
       "3      303         13       14  21/12/2017    12  2017\n",
       "4      304          8        9  30/10/2017    10  2017"
      ]
     },
     "execution_count": 36,
     "metadata": {},
     "output_type": "execute_result"
    }
   ],
   "source": [
    "hour_df.head()"
   ]
  },
  {
   "cell_type": "code",
   "execution_count": 37,
   "metadata": {},
   "outputs": [],
   "source": [
    "collision_df.to_csv('../Data/accident_dimension.csv', index=False)\n",
    "location_df.to_csv('../Data/location_dimension.csv', index=False)\n",
    "hour_df.to_csv('../Data/hour_dimension.csv', index=False)"
   ]
  }
 ],
 "metadata": {
  "kernelspec": {
   "display_name": "Python 3",
   "language": "python",
   "name": "python3"
  },
  "language_info": {
   "codemirror_mode": {
    "name": "ipython",
    "version": 3
   },
   "file_extension": ".py",
   "mimetype": "text/x-python",
   "name": "python",
   "nbconvert_exporter": "python",
   "pygments_lexer": "ipython3",
   "version": "3.7.2"
  }
 },
 "nbformat": 4,
 "nbformat_minor": 2
}
