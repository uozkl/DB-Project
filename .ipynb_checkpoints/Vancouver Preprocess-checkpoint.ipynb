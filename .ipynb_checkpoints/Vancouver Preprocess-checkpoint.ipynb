{
 "cells": [
  {
   "cell_type": "code",
   "execution_count": null,
   "metadata": {},
   "outputs": [],
   "source": [
    "import pandas as pd\n",
    "import numpy as np\n",
    "from datetime import datetime\n",
    "import utm\n",
    "\n",
    "vancouver_path = \"./Data/vancouvercrime.csv\"\n",
    "crime_mapping_path = \"./Data/crime_type_mapping.csv\"\n",
    "df = pd.read_csv(vancouver_path)\n",
    "df = df[df['YEAR'].isin([2015,2016,2017,2018,2019])]\n",
    "crime_code_df = pd.read_csv(crime_mapping_path)\n",
    "event_df = pd.read_csv('./Dimensions/dimension_event.csv')\n",
    "event_df = event_df[event_df['event_city'].isin([\"Vancouver\"])]"
   ]
  },
  {
   "cell_type": "code",
   "execution_count": null,
   "metadata": {},
   "outputs": [],
   "source": [
    "crime_list = crime_code_df[\"Vancouver\"].tolist()"
   ]
  },
  {
   "cell_type": "code",
   "execution_count": null,
   "metadata": {},
   "outputs": [],
   "source": [
    "population_df = pd.read_csv('./Data/Population for CSI.csv')\n",
    "population_df = population_df[population_df['City'].isin([\"Vancouver\"])]\n",
    "csi_weight = pd.read_csv('./Data/Crime weight for CSI.csv')\n",
    "csi_crime_names = csi_weight['Denver Crime catrgory'].tolist()\n",
    "csi_crime_record = []\n",
    "for i in range(2015,2020):\n",
    "    csi_crime_record.append([0]*len(csi_crime_names))"
   ]
  },
  {
   "cell_type": "code",
   "execution_count": null,
   "metadata": {},
   "outputs": [],
   "source": [
    "loc_df_list=[]\n",
    "crime_df_list=[]\n",
    "fact_df_list=[]"
   ]
  },
  {
   "cell_type": "code",
   "execution_count": null,
   "metadata": {},
   "outputs": [],
   "source": [
    "event_start_lst = event_df[\"event_start_date\"].tolist()\n",
    "event_end_lst = event_df[\"event_end_date\"].tolist()"
   ]
  },
  {
   "cell_type": "code",
   "execution_count": null,
   "metadata": {},
   "outputs": [],
   "source": [
    "for i, row in df.iterrows():\n",
    "    # index = len(fact_df)\n",
    "    index = len(loc_df_list)\n",
    "    na = np.nan\n",
    "    \n",
    "    # Van id starts from 10^7, Den id starts from 10^6\n",
    "    location_id = index + 10000000\n",
    "    city = \"Vancouver\"\n",
    "    location = row[\"HUNDRED_BLOCK\"]\n",
    "    neighborhood = row[\"NEIGHBOURHOOD\"]\n",
    "    lat,lon = utm.to_latlon(row['X'],row['Y'],10,'U') if row['X']>0 and row['Y']>0 else (na,na)\n",
    "    \n",
    "    \n",
    "    \n",
    "    crime_id = index + 20000000\n",
    "    \n",
    "    year = row['YEAR']\n",
    "    month = row['MONTH']\n",
    "    day = row['DAY']\n",
    "    hour = row['HOUR']\n",
    "    minute = row['MINUTE']\n",
    "\n",
    "    crime_type_map = crime_code_df.iloc[crime_list.index(row['TYPE'])]\n",
    "    crime_category_name = crime_type_map[\"corr Denver category\"]\n",
    "    crime_type_name = crime_type_map[\"corr Denver type\"]\n",
    "    crime_detail = crime_type_map[\"corr Denver detail\"]\n",
    "    \n",
    "    str_month = str(month) if month>9 else '0'+str(month)\n",
    "    str_day = str(day) if day>9 else '0'+str(day)\n",
    "    date_id = int(str(year)+str_month+str_day)\n",
    "    \n",
    "    \n",
    "    #Event\n",
    "    event_id = np.nan\n",
    "    #for idx_event, row_event in event_df.iterrows():\n",
    "    for i in range(len(event_start_lst)):\n",
    "        #the crime is in the event period\n",
    "        if date_id>=event_start_lst[i] and date_id<=event_end_lst[i]:\n",
    "            row_event = event_df.iloc[i]\n",
    "            local_location = location.upper() if type(location)==str else \"(｡･ω･)ﾉﾞ\"\n",
    "            event_location = row_event['event_location'].upper() if type(row_event['event_location'])==str else \"ヾ(´･ω･｀)ﾉ\"\n",
    "            if local_location in event_location:\n",
    "                event_id = row_event['event_key']\n",
    "                break\n",
    "            elif neighborhood == row_event['event_neighbourhood']:\n",
    "                event_id = row_event['event_key']\n",
    "            elif row_event['event_location_size'] == 'city' and np.isnan(event_id):\n",
    "                event_id = row_event['event_key']\n",
    "    \n",
    "    is_night = 0 if 7 <= hour <= 18 else 1\n",
    "    category_index_in_csi = csi_crime_names.index(crime_category_name)\n",
    "    \n",
    "    # location_df.loc[index] = [location_id,city,location,neighborhood,lat,lon,crime_rate]\n",
    "    loc_df_list.append([location_id,city,location,neighborhood,lat,lon,0.0,year-2015])\n",
    "    #crime_df.loc[index] = [crime_id,crime_category_name,crime_type_name,crime_detail,hour,minute,0,na,na,na,na,na,na]\n",
    "    crime_df_list.append([crime_id,crime_category_name,crime_type_name,crime_detail,hour,minute,0,na,na,na,na,na,na,category_index_in_csi,year-2015])\n",
    "    #fact_df.loc[index] = [location_id,crime_id,date_id,event_holiday_id,crime_type_map[\"is_traffic\"],crime_type_map['is_fatal'],is_night]\n",
    "    fact_df_list.append([location_id,crime_id,date_id,event_id,crime_type_map[\"is_traffic\"],crime_type_map['is_fatal'],is_night])\n",
    "    csi_crime_record[year-2015][category_index_in_csi]+=1\n"
   ]
  },
  {
   "cell_type": "code",
   "execution_count": null,
   "metadata": {},
   "outputs": [],
   "source": [
    "# Crime rate\n",
    "crime_rate_list=[0]*5\n",
    "for i in range(0,5):\n",
    "    crime_rate_list[i] = sum(csi_crime_record[i])/population_df.iloc[i]['Population']\n",
    "# Crime Severity Index\n",
    "for i in range(len(csi_crime_record)):\n",
    "    for k in range(len(csi_crime_record[i])):\n",
    "        csi_crime_record[i][k] = csi_crime_record[i][k]/population_df.iloc[i]['Population']*csi_weight.iloc[k]['Weight']*100"
   ]
  },
  {
   "cell_type": "code",
   "execution_count": null,
   "metadata": {},
   "outputs": [],
   "source": [
    "for i in range(len(loc_df_list)):\n",
    "    loc_df_list[i][-2]=crime_rate_list[loc_df_list[i][-1]]\n",
    "    del loc_df_list[i][-1]\n",
    "for j in range(len(crime_df_list)):\n",
    "    crime_df_list[j][-2]=csi_crime_record[crime_df_list[j][-1]][crime_df_list[j][-2]]\n",
    "    del crime_df_list[j][-1]"
   ]
  },
  {
   "cell_type": "code",
   "execution_count": null,
   "metadata": {},
   "outputs": [],
   "source": [
    "fact_df = pd.DataFrame(fact_df_list, columns=['location_Key','crime_key', 'date_key','event_key', 'is_traffic','is_fatal','is_nighttime'],dtype=\"Int64\")\n",
    "location_df = pd.DataFrame(loc_df_list, columns=['location_Key','city','location_name', 'neighborhood', 'latitude','longitude','crime_rate_percentage'])\n",
    "crime_df= pd.DataFrame(crime_df_list, columns=['crime_key','crime_category_name', 'crime_type_name','crime_details',\n",
    "                                 'start_hour', 'start_minute',\"start_second\",\n",
    "                                 'end_hour', 'end_minute',\"end_second\",\n",
    "                                 'report_hour', 'report_minute',\"report_second\",\"crime_severity_index\"])"
   ]
  },
  {
   "cell_type": "code",
   "execution_count": null,
   "metadata": {},
   "outputs": [],
   "source": [
    "crime_df.head()"
   ]
  },
  {
   "cell_type": "code",
   "execution_count": null,
   "metadata": {},
   "outputs": [],
   "source": [
    "location_df.head()"
   ]
  },
  {
   "cell_type": "code",
   "execution_count": null,
   "metadata": {},
   "outputs": [],
   "source": [
    "fact_df.head()"
   ]
  },
  {
   "cell_type": "code",
   "execution_count": null,
   "metadata": {},
   "outputs": [],
   "source": [
    "fact_df.to_csv(r'.\\Dimensions\\fact_vancouver.csv',index=False)\n",
    "crime_df.to_csv(r'.\\Dimensions\\crm_vancouver.csv',index=False)\n",
    "location_df.to_csv(r'.\\Dimensions\\loc_vancouver.csv',index=False)"
   ]
  },
  {
   "cell_type": "code",
   "execution_count": null,
   "metadata": {},
   "outputs": [],
   "source": []
  }
 ],
 "metadata": {
  "kernelspec": {
   "display_name": "Python 3",
   "language": "python",
   "name": "python3"
  },
  "language_info": {
   "codemirror_mode": {
    "name": "ipython",
    "version": 3
   },
   "file_extension": ".py",
   "mimetype": "text/x-python",
   "name": "python",
   "nbconvert_exporter": "python",
   "pygments_lexer": "ipython3",
   "version": "3.7.2"
  }
 },
 "nbformat": 4,
 "nbformat_minor": 2
}
