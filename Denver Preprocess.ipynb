{
 "cells": [
  {
   "cell_type": "code",
   "execution_count": null,
   "metadata": {},
   "outputs": [],
   "source": [
    "import pandas as pd\n",
    "import numpy as np\n",
    "from datetime import datetime\n",
    "denver_path = \"./Data/denvercrime.csv\"\n",
    "crime_code_path = \"./Data/offense_codes.csv\"\n",
    "df = pd.read_csv(denver_path)\n",
    "crime_code_df = pd.read_csv(crime_code_path)\n",
    "event_df = pd.read_csv('./Dimensions/dimension_event.csv')\n",
    "event_df = event_df[event_df['event_city'].isin([\"Denver\"])]"
   ]
  },
  {
   "cell_type": "code",
   "execution_count": null,
   "metadata": {},
   "outputs": [],
   "source": [
    "event_start_lst = event_df[\"event_start_date\"].tolist()\n",
    "event_end_lst = event_df[\"event_end_date\"].tolist()"
   ]
  },
  {
   "cell_type": "code",
   "execution_count": null,
   "metadata": {},
   "outputs": [],
   "source": [
    "crime_code_index = []\n",
    "crime_details=[]\n",
    "for index, row in crime_code_df.iterrows():\n",
    "    crime_code_index.append((row[\"OFFENSE_CODE\"],row[\"OFFENSE_CODE_EXTENSION\"]))\n",
    "    crime_details.append(row[\"OFFENSE_TYPE_NAME\"])\n",
    "# Source https://www.macrotrends.net/cities/us/co/denver/crime-rate-statistics\n",
    "# Denver population 2790,000 in 2019, data set has 95272 records in 2019\n",
    "crime_rate_list ={\"2015\":6.739,\"2016\":6.574,\"2017\":6.756,\"2018\":7.301,\"2019\":3.415}"
   ]
  },
  {
   "cell_type": "code",
   "execution_count": null,
   "metadata": {},
   "outputs": [],
   "source": [
    "def time_cov(raw_in):\n",
    "    if type(raw_in)==float:\n",
    "        return raw_in,raw_in,raw_in,raw_in,raw_in,raw_in\n",
    "    datetime_raw = datetime.strptime(raw_in, '%m/%d/%Y %I:%M:%S %p')\n",
    "    date = int(datetime_raw.strftime(\"%Y%m%d\"))\n",
    "    hour = datetime_raw.hour\n",
    "    minute = datetime_raw.minute\n",
    "    second = datetime_raw.second\n",
    "    dow = [\"Monday\",\"Tuesday\",\"Wednesday\",\"Thursday\",\"Friday\",\"Saturday\",\"Sunday\"][datetime_raw.weekday()]\n",
    "    return date,hour,minute,second,dow,datetime_raw\n"
   ]
  },
  {
   "cell_type": "code",
   "execution_count": null,
   "metadata": {},
   "outputs": [],
   "source": [
    "loc_df_list=[]\n",
    "crime_df_list=[]\n",
    "fact_df_list=[]"
   ]
  },
  {
   "cell_type": "code",
   "execution_count": null,
   "metadata": {},
   "outputs": [],
   "source": [
    "for index, row in df.iterrows():\n",
    "        \n",
    "    s_d,s_h,s_m,s_s,s_dow,s_dt = time_cov(row[\"FIRST_OCCURRENCE_DATE\"])\n",
    "    if not(2015<=s_dt.year<=2019):\n",
    "        continue\n",
    "    e_d,e_h,e_m,e_s,e_dow,e_dt = time_cov(row[\"LAST_OCCURRENCE_DATE\"])\n",
    "    r_d,r_h,r_m,r_s,r_dow,r_dt = time_cov(row[\"REPORTED_DATE\"])\n",
    "\n",
    "    date_id = int(s_dt.strftime(\"%Y%m%d\"))    \n",
    "    \n",
    "    location_id = index + 1000000\n",
    "    city = \"Denver\"\n",
    "    location = row[\"INCIDENT_ADDRESS\"]\n",
    "    neighborhood = row[\"NEIGHBORHOOD_ID\"]\n",
    "    lat = row[\"GEO_LAT\"]\n",
    "    lon = row[\"GEO_LON\"]\n",
    "    \n",
    "    \n",
    "    \n",
    "    crime_id = index + 2000000\n",
    "    crime_category_name = row[\"OFFENSE_CATEGORY_ID\"]\n",
    "    crime_type_name = row[\"OFFENSE_TYPE_ID\"]\n",
    "    crime_detail = crime_details[crime_code_index.index((row[\"OFFENSE_CODE\"],row[\"OFFENSE_CODE_EXTENSION\"]))]\n",
    "    \n",
    "    \n",
    "    #Event\n",
    "    event_id = np.nan\n",
    "    #for idx_event, row_event in event_df.iterrows():\n",
    "    for i in range(len(event_start_lst)):\n",
    "        #the crime is in the event period\n",
    "        if date_id>=event_start_lst[i] and date_id<=event_end_lst[i]:\n",
    "            row_event = event_df.iloc[i]\n",
    "            local_location = location.upper() if type(location)==str else \"(｡･ω･)ﾉﾞ\"\n",
    "            event_location = row_event['event_location'].upper() if type(row_event['event_location'])==str else \"ヾ(´･ω･｀)ﾉ\"\n",
    "            if local_location in event_location:\n",
    "                event_id = row_event['event_key']\n",
    "                break\n",
    "            elif neighborhood == row_event['event_neighbourhood']:\n",
    "                event_id = row_event['event_key']\n",
    "            elif row_event['event_location_size'] == 'city' and np.isnan(event_id):\n",
    "                event_id = row_event['event_key']\n",
    "                    \n",
    "    \n",
    "    \n",
    "    is_night = 0 if 7 <= s_h <= 18 else 1\n",
    "    \n",
    "    fatal_keywords=['FATAL','DEAD','DEATH','KILL','HOMICIDE','MURDER']\n",
    "    is_fatal = 0\n",
    "    for keyword in fatal_keywords:\n",
    "        for name in [crime_category_name,crime_type_name,crime_detail]:\n",
    "            if keyword in name.upper():\n",
    "                is_fatal = 1\n",
    "    crime_rate = crime_rate_list[str(s_dt.year)]\n",
    "                \n",
    "    #location_df.loc[index] = [location_id,city,location,neighborhood,lat,lon,crime_rate]\n",
    "    #crime_df.loc[index] = [crime_id,crime_category_name,crime_type_name,crime_detail,s_h,s_m,s_s,e_h,e_m,e_s,r_h,r_m,r_s]\n",
    "    #fact_df.loc[index] = [location_id,crime_id,date_id,event_id,row[\"IS_TRAFFIC\"],is_fatal,is_night]\n",
    "\n",
    "    loc_df_list.append([location_id,city,location,neighborhood,lat,lon,crime_rate])\n",
    "    crime_df_list.append([crime_id,crime_category_name,crime_type_name,crime_detail,s_h,s_m,s_s,e_h,e_m,e_s,r_h,r_m,r_s])\n",
    "    fact_df_list.append([location_id,crime_id,date_id,event_id,row[\"IS_TRAFFIC\"],is_fatal,is_night])"
   ]
  },
  {
   "cell_type": "code",
   "execution_count": null,
   "metadata": {},
   "outputs": [],
   "source": [
    "fact_df = pd.DataFrame(fact_df_list, columns=['location_Key','crime_key', 'date_key','event_key', 'is_traffic','is_fatal','is_nighttime'],dtype=\"Int64\")\n",
    "location_df = pd.DataFrame(loc_df_list, columns=['location_Key','city','location_name', 'neighborhood', 'latitude','longitude','crime_rate_percentage'])\n",
    "crime_df= pd.DataFrame(crime_df_list, columns=['crime_key','crime_category_name', 'crime_type_name','crime_details',\n",
    "                                 'start_hour', 'start_minute',\"start_second\",\n",
    "                                 'end_hour', 'end_minute',\"end_second\",\n",
    "                                 'report_hour', 'report_minute',\"report_second\"])"
   ]
  },
  {
   "cell_type": "code",
   "execution_count": null,
   "metadata": {},
   "outputs": [],
   "source": [
    "location_df.head()"
   ]
  },
  {
   "cell_type": "code",
   "execution_count": null,
   "metadata": {},
   "outputs": [],
   "source": [
    "crime_df.head()"
   ]
  },
  {
   "cell_type": "code",
   "execution_count": null,
   "metadata": {},
   "outputs": [],
   "source": [
    "fact_df.head()"
   ]
  },
  {
   "cell_type": "code",
   "execution_count": null,
   "metadata": {},
   "outputs": [],
   "source": [
    "df.head()"
   ]
  },
  {
   "cell_type": "code",
   "execution_count": null,
   "metadata": {},
   "outputs": [],
   "source": [
    "fact_df.to_csv(r'.\\Dimensions\\fact_denver.csv',index=False)\n",
    "crime_df.to_csv(r'.\\Dimensions\\crm_denver.csv',index=False)\n",
    "location_df.to_csv(r'.\\Dimensions\\loc_denver.csv',index=False)"
   ]
  }
 ],
 "metadata": {
  "kernelspec": {
   "display_name": "Python 3",
   "language": "python",
   "name": "python3"
  },
  "language_info": {
   "codemirror_mode": {
    "name": "ipython",
    "version": 3
   },
   "file_extension": ".py",
   "mimetype": "text/x-python",
   "name": "python",
   "nbconvert_exporter": "python",
   "pygments_lexer": "ipython3",
   "version": "3.7.4"
  }
 },
 "nbformat": 4,
 "nbformat_minor": 2
}
