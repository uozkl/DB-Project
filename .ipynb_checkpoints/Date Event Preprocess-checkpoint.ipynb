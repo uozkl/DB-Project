{
 "cells": [
  {
   "cell_type": "code",
   "execution_count": null,
   "metadata": {},
   "outputs": [],
   "source": [
    "import pandas as pd\n",
    "import numpy as np\n",
    "from datetime import datetime\n",
    "holidayDataDenver = pd.read_csv('./Data/Denver_Holiday.csv')\n",
    "holidayDataVancouver = pd.read_csv('./Data/Vancouver_Holiday.csv')\n",
    "eventDataDenver = pd.read_csv('./Data/Denver_events.csv')\n",
    "eventDataVancouver = pd.read_csv('./Data/Vancouver_events.csv')"
   ]
  },
  {
   "cell_type": "code",
   "execution_count": null,
   "metadata": {},
   "outputs": [],
   "source": [
    "date_df = pd.DataFrame(columns=['date_key', 'year','month','day', 'day_of_week','is_weekend','is_holiday_vancouver','holiday_name_vancouver','is_holiday_denver','holiday_name_denver'])\n",
    "\n",
    "#Full Date Dimesion\n",
    "start='20150101'\n",
    "end='20191231'\n",
    "s = pd.Series(pd.date_range(start, end))\n",
    "date_df[\"date_key\"] = s.dt.strftime('%Y%m%d')\n",
    "date_df[\"day_of_week\"] = s.dt.weekday_name\n",
    "date_df['is_weekend'] = ((pd.to_numeric( s.dt.weekday)) // 5 == 1).astype('int64')\n",
    "date_df[\"year\"] = s.dt.year\n",
    "date_df[\"month\"] = s.dt.month\n",
    "date_df[\"day\"] = s.dt.day\n",
    "date_df[\"is_holiday_denver\"] = 0\n",
    "date_df[\"is_holiday_vancouver\"] = 0\n",
    "#Put Denver Holiday csv into Date Dimension\n",
    "for idx_hol, row_hol in holidayDataDenver.iterrows():\n",
    "    for idx_date, row_date in date_df.iterrows():\n",
    "        if row_hol['YEAR']==row_date['year'] and row_hol['MONTH']==row_date['month'] and row_hol['DAY']== row_date['day']:\n",
    "            date_df.at[idx_date, 'is_holiday_denver'] = 1\n",
    "            date_df.at[idx_date, 'holiday_name_denver'] = row_hol['NAME']\n",
    "#Put Vancouver Holiday csv into Date Dimension\n",
    "for idx_hol, row_hol in holidayDataVancouver.iterrows():\n",
    "    for idx_date, row_date in date_df.iterrows():\n",
    "        if row_hol['YEAR']==row_date['year'] and row_hol['MONTH']==row_date['month'] and row_hol['DAY']== row_date['day']:\n",
    "            date_df.at[idx_date, 'is_holiday_vancouver'] = 1\n",
    "            date_df.at[idx_date, 'holiday_name_vancouver'] = row_hol['NAME']"
   ]
  },
  {
   "cell_type": "code",
   "execution_count": null,
   "metadata": {},
   "outputs": [],
   "source": [
    "event_denver_df = pd.DataFrame(columns=['event_key','event_name','event_type','event_location','event_neighbourhood','event_city','event_start_date','event_end_date','event_location_size'])\n",
    "#Event Dimension only has Denver Event\n",
    "for idx_event, row_event in eventDataDenver.iterrows():\n",
    "    event_row=[idx_event+3000000]\n",
    "    event_row += [row_event['NAME'],row_event['TYPE'],row_event['LOCATION'],row_event['NEIGHBOURHOOD'],'Denver',row_event['DATE_START'],row_event['DATE_END'],row_event['LOCATION-SIZE']]\n",
    "    event_denver_df.loc[len(event_denver_df)] = event_row"
   ]
  },
  {
   "cell_type": "code",
   "execution_count": null,
   "metadata": {},
   "outputs": [],
   "source": [
    "#Event Dimension\n",
    "event_vancouver_df = pd.DataFrame(columns=['event_key','event_name','event_type','event_location','event_neighbourhood','event_city','event_start_date','event_end_date','event_location_size'])\n",
    "for idx_event, row_event in eventDataVancouver.iterrows():\n",
    "    event_row=[len(event_denver_df)+3000000]\n",
    "    event_row += [row_event['NAME'],row_event['TYPE'],row_event['LOCATION'],row_event['NEIGHBOURHOOD'],'Vancouver',row_event['DATE_START'],row_event['DATE_END'],row_event['LOCATION-SIZE']]\n",
    "    event_vancouver_df.loc[len(event_vancouver_df)] = event_row"
   ]
  },
  {
   "cell_type": "code",
   "execution_count": null,
   "metadata": {},
   "outputs": [],
   "source": [
    "event_df = pd.concat([event_denver_df, event_vancouver_df], ignore_index=True)"
   ]
  },
  {
   "cell_type": "code",
   "execution_count": null,
   "metadata": {},
   "outputs": [],
   "source": [
    "# Save to csv\n",
    "date_df.to_csv(r'.\\Dimensions\\date_dimension.csv',index=False)\n",
    "event_df.to_csv(r'.\\Dimensions\\event_dimension.csv',index=False)"
   ]
  }
 ],
 "metadata": {
  "kernelspec": {
   "display_name": "Python 3",
   "language": "python",
   "name": "python3"
  },
  "language_info": {
   "codemirror_mode": {
    "name": "ipython",
    "version": 3
   },
   "file_extension": ".py",
   "mimetype": "text/x-python",
   "name": "python",
   "nbconvert_exporter": "python",
   "pygments_lexer": "ipython3",
   "version": "3.7.2"
  }
 },
 "nbformat": 4,
 "nbformat_minor": 2
}
