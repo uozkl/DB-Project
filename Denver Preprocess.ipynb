{
 "cells": [
  {
   "cell_type": "code",
   "execution_count": null,
   "metadata": {},
   "outputs": [],
   "source": [
    "import pandas as pd\n",
    "import numpy as np\n",
    "from datetime import datetime\n",
    "denver_path = \"./Data/denvercrime.csv\"\n",
    "crime_code_path = \"./Data/offense_codes.csv\"\n",
    "df = pd.read_csv(denver_path)\n",
    "crime_code_df = pd.read_csv(crime_code_path)\n",
    "event_df = pd.read_csv('./Dimensions/dimension_event.csv')\n",
    "event_df = event_df[event_df['event_city'].isin([\"Denver\"])]"
   ]
  },
  {
   "cell_type": "code",
   "execution_count": null,
   "metadata": {},
   "outputs": [],
   "source": [
    "event_start_lst = event_df[\"event_start_date\"].tolist()\n",
    "event_end_lst = event_df[\"event_end_date\"].tolist()"
   ]
  },
  {
   "cell_type": "code",
   "execution_count": null,
   "metadata": {},
   "outputs": [],
   "source": [
    "crime_code_index = []\n",
    "crime_details=[]\n",
    "for index, row in crime_code_df.iterrows():\n",
    "    crime_code_index.append((row[\"OFFENSE_CODE\"],row[\"OFFENSE_CODE_EXTENSION\"]))\n",
    "    crime_details.append(row[\"OFFENSE_TYPE_NAME\"])"
   ]
  },
  {
   "cell_type": "code",
   "execution_count": null,
   "metadata": {},
   "outputs": [],
   "source": [
    "def time_cov(raw_in):\n",
    "    if type(raw_in)==float:\n",
    "        return raw_in,raw_in,raw_in,raw_in,raw_in,raw_in\n",
    "    datetime_raw = datetime.strptime(raw_in, '%m/%d/%Y %I:%M:%S %p')\n",
    "    date = int(datetime_raw.strftime(\"%Y%m%d\"))\n",
    "    hour = datetime_raw.hour\n",
    "    minute = datetime_raw.minute\n",
    "    second = datetime_raw.second\n",
    "    dow = [\"Monday\",\"Tuesday\",\"Wednesday\",\"Thursday\",\"Friday\",\"Saturday\",\"Sunday\"][datetime_raw.weekday()]\n",
    "    return date,hour,minute,second,dow,datetime_raw\n"
   ]
  },
  {
   "cell_type": "code",
   "execution_count": null,
   "metadata": {},
   "outputs": [],
   "source": [
    "population_df = pd.read_csv('./Data/Population for CSI.csv')\n",
    "population_df = population_df[population_df['City'].isin([\"Denver\"])]\n",
    "csi_weight = pd.read_csv('./Data/Crime weight for CSI.csv')\n",
    "csi_crime_names = csi_weight['Denver Crime catrgory'].tolist()\n",
    "csi_crime_record = []\n",
    "for i in range(2015,2020):\n",
    "    csi_crime_record.append([0]*len(csi_crime_names))"
   ]
  },
  {
   "cell_type": "code",
   "execution_count": null,
   "metadata": {},
   "outputs": [],
   "source": [
    "loc_df_list=[]\n",
    "crime_df_list=[]\n",
    "fact_df_list=[]"
   ]
  },
  {
   "cell_type": "code",
   "execution_count": null,
   "metadata": {},
   "outputs": [],
   "source": [
    "for index, row in df.iterrows():\n",
    "        \n",
    "    s_d,s_h,s_m,s_s,s_dow,s_dt = time_cov(row[\"FIRST_OCCURRENCE_DATE\"])\n",
    "    if not(2015<=s_dt.year<=2019):\n",
    "        continue\n",
    "    e_d,e_h,e_m,e_s,e_dow,e_dt = time_cov(row[\"LAST_OCCURRENCE_DATE\"])\n",
    "    r_d,r_h,r_m,r_s,r_dow,r_dt = time_cov(row[\"REPORTED_DATE\"])\n",
    "\n",
    "    date_id = int(s_dt.strftime(\"%Y%m%d\"))    \n",
    "    \n",
    "    location_id = index + 1000000\n",
    "    city = \"Denver\"\n",
    "    location = row[\"INCIDENT_ADDRESS\"]\n",
    "    neighborhood = row[\"NEIGHBORHOOD_ID\"]\n",
    "    lat = row[\"GEO_LAT\"]\n",
    "    lon = row[\"GEO_LON\"]\n",
    "    \n",
    "    \n",
    "    \n",
    "    crime_id = index + 2000000\n",
    "    crime_category_name = row[\"OFFENSE_CATEGORY_ID\"]\n",
    "    crime_type_name = row[\"OFFENSE_TYPE_ID\"]\n",
    "    crime_detail = crime_details[crime_code_index.index((row[\"OFFENSE_CODE\"],row[\"OFFENSE_CODE_EXTENSION\"]))]\n",
    "    \n",
    "    \n",
    "    #Event\n",
    "    event_id = np.nan\n",
    "    #for idx_event, row_event in event_df.iterrows():\n",
    "    for i in range(len(event_start_lst)):\n",
    "        #the crime is in the event period\n",
    "        if date_id>=event_start_lst[i] and date_id<=event_end_lst[i]:\n",
    "            row_event = event_df.iloc[i]\n",
    "            local_location = location.upper() if type(location)==str else \"(｡･ω･)ﾉﾞ\"\n",
    "            event_location = row_event['event_location'].upper() if type(row_event['event_location'])==str else \"ヾ(´･ω･｀)ﾉ\"\n",
    "            if local_location in event_location:\n",
    "                event_id = row_event['event_key']\n",
    "                break\n",
    "            elif neighborhood == row_event['event_neighbourhood']:\n",
    "                event_id = row_event['event_key']\n",
    "            elif row_event['event_location_size'] == 'city' and np.isnan(event_id):\n",
    "                event_id = row_event['event_key']\n",
    "                    \n",
    "    \n",
    "    \n",
    "    is_night = 0 if 7 <= s_h <= 18 else 1\n",
    "    \n",
    "    fatal_keywords=['FATAL','DEAD','DEATH','KILL','HOMICIDE','MURDER']\n",
    "    is_fatal = 0\n",
    "    for keyword in fatal_keywords:\n",
    "        for name in [crime_category_name,crime_type_name,crime_detail]:\n",
    "            if keyword in name.upper():\n",
    "                is_fatal = 1\n",
    "    #crime_rate = crime_rate_list[str(s_dt.year)]\n",
    "                \n",
    "    #location_df.loc[index] = [location_id,city,location,neighborhood,lat,lon,crime_rate]\n",
    "    #crime_df.loc[index] = [crime_id,crime_category_name,crime_type_name,crime_detail,s_h,s_m,s_s,e_h,e_m,e_s,r_h,r_m,r_s]\n",
    "    #fact_df.loc[index] = [location_id,crime_id,date_id,event_id,row[\"IS_TRAFFIC\"],is_fatal,is_night]\n",
    "    \n",
    "    category_index_in_csi = csi_crime_names.index(crime_category_name)\n",
    "    year = int(date_id/10000)-2015\n",
    "    \n",
    "    # Add col year to add crime rate\n",
    "    loc_df_list.append([location_id,city,location,neighborhood,lat,lon,0.0,year])\n",
    "    # Add col year and use category_index_in_csi at the place of CSI for further calculation\n",
    "    crime_df_list.append([crime_id,crime_category_name,crime_type_name,crime_detail,s_h,s_m,s_s,e_h,e_m,e_s,r_h,r_m,r_s,category_index_in_csi,year])\n",
    "    fact_df_list.append([location_id,crime_id,date_id,event_id,row[\"IS_TRAFFIC\"],is_fatal,is_night])\n",
    "    csi_crime_record[year][category_index_in_csi]+=1\n",
    "    "
   ]
  },
  {
   "cell_type": "code",
   "execution_count": null,
   "metadata": {},
   "outputs": [],
   "source": [
    "# Crime rate\n",
    "crime_rate_list=[0]*5\n",
    "for i in range(0,5):\n",
    "    crime_rate_list[i] = sum(csi_crime_record[i])/population_df.iloc[i]['Population']\n",
    "# Crime Severity Index\n",
    "for i in range(len(csi_crime_record)):\n",
    "    for k in range(len(csi_crime_record[i])):\n",
    "        csi_crime_record[i][k] = csi_crime_record[i][k]/population_df.iloc[i]['Population']*csi_weight.iloc[k]['Weight']*100"
   ]
  },
  {
   "cell_type": "code",
   "execution_count": null,
   "metadata": {},
   "outputs": [],
   "source": [
    "for i in range(len(loc_df_list)):\n",
    "    loc_df_list[i][-2]=crime_rate_list[loc_df_list[i][-1]]\n",
    "    del loc_df_list[i][-1]\n",
    "for i in range(len(crime_df_list)):\n",
    "    crime_df_list[i][-2]=csi_crime_record[crime_df_list[i][-1]][crime_df_list[i][-2]]\n",
    "    del crime_df_list[i][-1]"
   ]
  },
  {
   "cell_type": "code",
   "execution_count": null,
   "metadata": {},
   "outputs": [],
   "source": [
    "fact_df = pd.DataFrame(fact_df_list, columns=['location_Key','crime_key', 'date_key','event_key', 'is_traffic','is_fatal','is_nighttime'],dtype=\"Int64\")\n",
    "location_df = pd.DataFrame(loc_df_list, columns=['location_Key','city','location_name', 'neighborhood', 'latitude','longitude','crime_rate_percentage'])\n",
    "crime_df= pd.DataFrame(crime_df_list, columns=['crime_key','crime_category_name', 'crime_type_name','crime_details',\n",
    "                                 'start_hour', 'start_minute',\"start_second\",\n",
    "                                 'end_hour', 'end_minute',\"end_second\",\n",
    "                                 'report_hour', 'report_minute',\"report_second\",\"crime_severity_index\"])"
   ]
  },
  {
   "cell_type": "code",
   "execution_count": null,
   "metadata": {},
   "outputs": [],
   "source": [
    "location_df.head()"
   ]
  },
  {
   "cell_type": "code",
   "execution_count": null,
   "metadata": {
    "scrolled": true
   },
   "outputs": [],
   "source": [
    "fact_df.head()"
   ]
  },
  {
   "cell_type": "code",
   "execution_count": null,
   "metadata": {},
   "outputs": [],
   "source": [
    "crime_df.head()"
   ]
  },
  {
   "cell_type": "code",
   "execution_count": null,
   "metadata": {},
   "outputs": [],
   "source": [
    "df.head()"
   ]
  },
  {
   "cell_type": "code",
   "execution_count": null,
   "metadata": {},
   "outputs": [],
   "source": [
    "fact_df.to_csv(r'.\\Dimensions\\fact_denver.csv',index=False)\n",
    "crime_df.to_csv(r'.\\Dimensions\\crm_denver.csv',index=False)\n",
    "location_df.to_csv(r'.\\Dimensions\\loc_denver.csv',index=False)"
   ]
  },
  {
   "cell_type": "code",
   "execution_count": null,
   "metadata": {},
   "outputs": [],
   "source": []
  }
 ],
 "metadata": {
  "kernelspec": {
   "display_name": "Python 3",
   "language": "python",
   "name": "python3"
  },
  "language_info": {
   "codemirror_mode": {
    "name": "ipython",
    "version": 3
   },
   "file_extension": ".py",
   "mimetype": "text/x-python",
   "name": "python",
   "nbconvert_exporter": "python",
   "pygments_lexer": "ipython3",
   "version": "3.7.2"
  }
 },
 "nbformat": 4,
 "nbformat_minor": 2
}
